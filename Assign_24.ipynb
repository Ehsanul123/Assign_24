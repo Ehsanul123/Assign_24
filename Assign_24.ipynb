{
 "cells": [
  {
   "cell_type": "code",
   "execution_count": null,
   "id": "2fbea940",
   "metadata": {},
   "outputs": [],
   "source": [
    "#(1):--What is the relationship between def statements and lambda expressions\n",
    "\n",
    "Ans:- Keyword def that marks the start of the function header. A function name to uniquely identify the function.\n",
    "Function naming follows the same rules of writing identifiers in Python\n",
    "\n",
    "Lambdas are one-line methods without a name or we can say anonymous Func\n",
    "They work practically the same as any other method in Python Lambdas differ from normal Python methods\n",
    "because they can have only one expression, can't contain any statements and their return type is a function object"
   ]
  },
  {
   "cell_type": "code",
   "execution_count": null,
   "id": "6f003025",
   "metadata": {},
   "outputs": [],
   "source": [
    "#(2):- What is the benefit of lambda?\n",
    "\n",
    "Ans. Fewer Lines of Code\n",
    "Lambda functions are inline functions and thus execute comparatively faster Many times lambda functions\n",
    "make code much more readable by avoiding the logical jumps caused by function calls"
   ]
  },
  {
   "cell_type": "code",
   "execution_count": null,
   "id": "fe280cff",
   "metadata": {},
   "outputs": [],
   "source": [
    "#(3):-Compare and contrast map, filter, and reduce.\n",
    "\n",
    "Ans. map applies as a transformation to an element.\n",
    "The map() function iterates through all items in the given iterable and executes the function we passed as an argument on \n",
    "each of them. Syntax : map(function, iterable(s))\n",
    "\n",
    "filter accumulates only elements matching a condition.\n",
    "filter() forms a new list that contains only elements that satisfy a certain condition, i.e. the function we passed \n",
    "returns True Syntax : filter(function, iterable(s))\n",
    "\n",
    "reduce accumulates all elements to a single value, by using immutable values\n",
    "reduce() works by calling the function we passed for the first two items in the sequence. The result returned by the \n",
    "function is used in another call to function alongside with the next (third in this case), element \n",
    "Syntax : reduce(function, sequence[, initial])"
   ]
  },
  {
   "cell_type": "code",
   "execution_count": null,
   "id": "9e0e3394",
   "metadata": {},
   "outputs": [],
   "source": [
    "#(4):- What are function annotations, and how are they used.\n",
    "\n",
    "Ans-Function annotations, both for parameters and return values, are completely optional. Function annotations are \n",
    "nothing more than a way of associating arbitrary Python expressions with various parts of a function at compile-time.\n",
    "By itself, Python does not attach any particular meaning or significance to annotations."
   ]
  },
  {
   "cell_type": "code",
   "execution_count": 1,
   "id": "b8978db0",
   "metadata": {},
   "outputs": [
    {
     "name": "stdout",
     "output_type": "stream",
     "text": [
      "{'n': 'float', 'b': 'int', 'return': 'result'}\n"
     ]
    }
   ],
   "source": [
    "def fib(n:'float', b:'int')-> 'result': \n",
    "    pass\n",
    "print(fib.__annotations__)"
   ]
  },
  {
   "cell_type": "code",
   "execution_count": null,
   "id": "2fa6f3ec",
   "metadata": {},
   "outputs": [],
   "source": [
    "5. What are recursive functions, and how are they used.\n",
    "\n",
    " Ans:- A recursive function is a function that calls itself during its execution.\n",
    "This means that the function will continue to call itself and repeat its behavior until some condition is met to \n",
    "return a result"
   ]
  },
  {
   "cell_type": "code",
   "execution_count": 2,
   "id": "422ef850",
   "metadata": {},
   "outputs": [
    {
     "data": {
      "text/plain": [
       "6"
      ]
     },
     "execution_count": 2,
     "metadata": {},
     "output_type": "execute_result"
    }
   ],
   "source": [
    "def fact(x):\n",
    "    if x == 1 :\n",
    "        return 1\n",
    "    else :\n",
    "        return x * fact(x-1) # recurtion\n",
    "    \n",
    "fact(3)"
   ]
  },
  {
   "cell_type": "code",
   "execution_count": null,
   "id": "6f5e8eef",
   "metadata": {},
   "outputs": [],
   "source": [
    "#(6):- What are some general design guidelines for coding functions.\n",
    "\n",
    "Ans.\n",
    "\n",
    "1.Use 4-space indentation and no tabs.\n",
    "2.Use docstrings\n",
    "3.Wrap linethat they don’t exceed 79 characters\n",
    "4.Use of regular and updated comments are valuable to both the coders and users\n",
    "5.Use of trailing commas : in case of tuple -> ('good',)\n",
    "6.Use Python’s default UTF-8 or ASCII encodings and not any fancy encodings\n",
    "7.Naming Conventions\n",
    "8.Characters that should not be used for identifiers : ‘l’ (lowercase letter el), ‘O’ (uppercase letter oh), \n",
    "‘I’ (uppercase letter eye) as single character variable names as these are similar to the numerals one and zero.\n",
    "9. Don’t use non-ASCII characters in identifiers \n",
    "10. Name your classes and functions consistently \n",
    "11. While naming of function of methods always use self for the first argument"
   ]
  },
  {
   "cell_type": "code",
   "execution_count": null,
   "id": "3d6e82fc",
   "metadata": {},
   "outputs": [],
   "source": [
    "#(7). Name three or more ways that functions can communicate results to a caller.\n",
    "\n",
    "Ans.\n",
    "\n",
    "1.Function can return single value\n",
    "2.Can return multiple values, tuple\n",
    "3.can return list,dictionary\n",
    "4.can return function object\n",
    "5.can return class object"
   ]
  }
 ],
 "metadata": {
  "kernelspec": {
   "display_name": "Python 3 (ipykernel)",
   "language": "python",
   "name": "python3"
  },
  "language_info": {
   "codemirror_mode": {
    "name": "ipython",
    "version": 3
   },
   "file_extension": ".py",
   "mimetype": "text/x-python",
   "name": "python",
   "nbconvert_exporter": "python",
   "pygments_lexer": "ipython3",
   "version": "3.9.7"
  }
 },
 "nbformat": 4,
 "nbformat_minor": 5
}
